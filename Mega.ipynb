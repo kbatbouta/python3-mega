{
  "nbformat": 4,
  "nbformat_minor": 0,
  "metadata": {
    "colab": {
      "name": "Mega.ipynb",
      "version": "0.3.2",
      "provenance": [],
      "collapsed_sections": [],
      "include_colab_link": true
    },
    "kernelspec": {
      "name": "python3",
      "display_name": "Python 3"
    }
  },
  "cells": [
    {
      "cell_type": "markdown",
      "metadata": {
        "id": "view-in-github",
        "colab_type": "text"
      },
      "source": [
        "<a href=\"https://colab.research.google.com/github/kbatbouta/python3-mega/blob/master/Mega.ipynb\" target=\"_parent\"><img src=\"https://colab.research.google.com/assets/colab-badge.svg\" alt=\"Open In Colab\"/></a>"
      ]
    },
    {
      "metadata": {
        "id": "H_wr6UAoJIUW",
        "colab_type": "text"
      },
      "cell_type": "markdown",
      "source": [
        "# Python-Mega.gz \n",
        "\n",
        "[![Build Status](https://travis-ci.org/jeroenmeulenaar/python3-mega.png?branch=master)](https://travis-ci.org/jeroenmeulenaar/python3-mega)"
      ]
    },
    {
      "metadata": {
        "id": "sMkqfx0NFvtO",
        "colab_type": "text"
      },
      "cell_type": "markdown",
      "source": [
        "## Overview\n",
        "\n",
        "Wrapper around the [Mega API](https://mega.co.nz/#developers). Based on the work of [Julien Marchand](http://julien-marchand.fr/blog/using-mega-api-with-python-examples/).\n",
        "\n",
        "This is a fork of [Juan Riaza's github project](https://github.com/juanriaza/python-mega), which is not maintained anymore.\n",
        "\n",
        "## How to use it?\n",
        "\n",
        "With your credentials:\n",
        "\n",
        "```python\n",
        "from mega import Mega\n",
        "\n",
        "email = 'kim@dot.com'\n",
        "password = 'olakase'\n",
        "\n",
        "m = Mega.from_credentials(email, password)\n",
        "```\n",
        "\n",
        "…or you can use an ephemeral account:\n",
        "\n",
        "```python\n",
        "m = Mega.from_ephemeral()\n",
        "```\n"
      ]
    },
    {
      "metadata": {
        "id": "aWUg_SFVGx2c",
        "colab_type": "text"
      },
      "cell_type": "markdown",
      "source": [
        "## Examples:\n",
        "\n",
        "And fire some requests:\n",
        "\n",
        "```python\n",
        "    # list of files\n",
        "    files = m.get_files()\n",
        "    # download a file\n",
        "    m.download_file(file_id, file_key)\n",
        "    # upload a file\n",
        "    m.uploadfile('/home/kim/mega/secret_plans')\n",
        "    # download from an url\n",
        "    m.download_from_url('https://mega.co.nz/#!wYo3AYZC!Zwi1f3ANtYwKNOc07fwuN1enOoRj4CreFouuGqi4D6Y')\n",
        "```\n"
      ]
    },
    {
      "metadata": {
        "id": "P_CMPoslCopq",
        "colab_type": "code",
        "colab": {}
      },
      "cell_type": "code",
      "source": [
        "#@title Mega.gz login tools.. { vertical-output: true, display-mode: \"both\" }\n",
        "email = \"\" #@param {type:\"string\"}\n",
        "password = \"\" #@param {type:\"string\"}\n",
        "\n",
        "#@markdown ## Acknowledgements\n",
        "#@markdown - Many thanks to Julien Marchand for the initial work.\n",
        "#@markdown - All of the [contributors](https://github.com/juanriaza/python-mega/blob/master/CONTRIBUTORS.md) to the original github project\n",
        "\n",
        "try:\n",
        "    from mega import Mega\n",
        "except ImportError as e:\n",
        "    !git clone https://github.com/jeroenmeulenaar/python3-mega.git\n",
        "\n",
        "    !cd python3-mega;pip install -r requirements.txt\n",
        "    !cd python3-mega;cp /content/python3-mega/tests.py /content/python3-mega/mega.py;python /content/python3-mega/setup.py install\n",
        "    \n",
        "    !pip3 install -e /content/python3-mega/\n",
        "    \n",
        "    !cp -r -a /content/python3-mega/build/lib/mega/ /usr/local/lib/python3.6/dist-packages/    \n",
        "    \n",
        "    from mega import Mega\n",
        "\n",
        "m = Mega.from_credentials(email, password)"
      ],
      "execution_count": 0,
      "outputs": []
    }
  ]
}